{
 "cells": [
  {
   "cell_type": "code",
   "execution_count": null,
   "id": "cc834c67",
   "metadata": {},
   "outputs": [],
   "source": [
    "%load_ext autoreload\n",
    "%autoreload 2\n",
    "\n",
    "import uproot\n",
    "import matplotlib.pyplot as plt\n",
    "import numpy as np\n",
    "import pandas as pd\n",
    "\n",
    "# local\n",
    "from helpers import *"
   ]
  },
  {
   "cell_type": "code",
   "execution_count": null,
   "id": "5f83c1c9",
   "metadata": {},
   "outputs": [],
   "source": [
    "# Branches we need to make the plot\n",
    "branches = [\n",
    "    \"selected\",\n",
    "    \"hits2.dqdx\",\n",
    "    \"hits2.rr\"\n",
    "]"
   ]
  },
  {
   "cell_type": "code",
   "execution_count": null,
   "id": "5c887776",
   "metadata": {},
   "outputs": [],
   "source": [
    "fname = \"/pnfs/icarus/persistent/users/gputnam/calib/MCP2021G/ntuples/Supplemental-gen_20210909T075432-G4_20210909T081124-DetSim_20210909T095200-MCstage0_20210909T104941-MCstage1.root\"\n",
    "# Automatically loads east and west\n",
    "\n",
    "# loaddf is imported from helpers\n",
    "df = loaddf_icarus(fname, branches)"
   ]
  },
  {
   "cell_type": "code",
   "execution_count": null,
   "id": "8097f1c8",
   "metadata": {},
   "outputs": [],
   "source": [
    "# The data frame!\n",
    "df"
   ]
  },
  {
   "cell_type": "code",
   "execution_count": null,
   "id": "4bd0e463",
   "metadata": {},
   "outputs": [],
   "source": [
    "# Selected for stopping track and valid dqdx\n",
    "when = (df.selected == 0) & (df.hits2.dqdx > 0.)\n",
    "\n",
    "# binning\n",
    "binx = np.linspace(0, 150, 26)\n",
    "biny = np.linspace(200, 2000, 100)\n",
    "\n",
    "# plot\n",
    "_ = plt.hist2d(df.hits2.rr[when], df.hits2.dqdx[when], bins=[binx, biny])"
   ]
  },
  {
   "cell_type": "code",
   "execution_count": null,
   "id": "a25588e0",
   "metadata": {},
   "outputs": [],
   "source": []
  }
 ],
 "metadata": {
  "kernelspec": {
   "display_name": "Python 3",
   "language": "python",
   "name": "python3"
  },
  "language_info": {
   "codemirror_mode": {
    "name": "ipython",
    "version": 3
   },
   "file_extension": ".py",
   "mimetype": "text/x-python",
   "name": "python",
   "nbconvert_exporter": "python",
   "pygments_lexer": "ipython3",
   "version": "3.8.3"
  }
 },
 "nbformat": 4,
 "nbformat_minor": 5
}
